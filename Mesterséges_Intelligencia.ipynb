{
  "nbformat": 4,
  "nbformat_minor": 0,
  "metadata": {
    "colab": {
      "provenance": []
    },
    "kernelspec": {
      "name": "python3",
      "display_name": "Python 3"
    },
    "language_info": {
      "name": "python"
    }
  },
  "cells": [
    {
      "cell_type": "markdown",
      "source": [
        "A Dataracing 2022 versenyén hazai vállalatok adatainak elemzésére nyílik lehetőséged különféle data science eszközökkel. A feladat a hazai vállalatok egy csoportjának exportteljesítményének előrejelzéséről szól, az ehhez az anonimizált adatokat a verseny egyik társszervezője, a Magyar Nemzeti Bank biztosította. Az adatelemzési cél, hogy az egyes cégek múltbeli beszámoló adatai, illetve egyéb statisztikái mérőszámai alapján a versenyzők gépi tanulási eszközökkel előre jelezzék az egyes cégek következő évi exportból származó bevételét.\n",
        "\n",
        "Mennyire jelezhető előre az egyes cégek üzleti teljesítménye? Milyen szinten lehet becsülni a múltbeli adatok alapján a várható export értékét? Milyen elemzési trükkök vethetők be egy ilyen adathalmaz esetén? Mely algoritmusok a legalkalmasabbak az adott esetben? Ilyen és ehhez hasonló kérdésekre keresi a választ az MNB, mely megválaszolásához a versenyen részvevőként Te is hozzájárulhatsz. A legjobb három megoldás készítő számára magas pénzjutalmak kerülnek kifizetésre.\n",
        "\n",
        "Az adathalmazról\n",
        "\n",
        "A verseny során hazai vállalatok adatait elemezzük. Az adathalmazban több mint 30 ezer cég különféle adatait találjuk, a cégek székhelyétől kezdve egészen a létszám és árbevétel információkig.\n",
        "\n",
        "Az adathalmazban egy-egy sor egy-egy céghez tartozik. A rendelkezésre álló értékek a 2014-2016 időszakban minden évben felvételre kerültek, ezt az időszakot teljes mértékben rendelkezésre bocsájtjuk. Az adathalmazban előfordulhat hiányzó érték, ennek kezelését a versenyzőre bízzuk.\n",
        "\n",
        "A cél felügyelt gépi tanulási módszerek segítségével előre jelezni az “target_reg” névvel ellátott oszlop (célváltozó) értékét. Ez a változó a 2017-es export értékét reprezentálja ezer Forintban.\n",
        "\n",
        "A versenyen a célváltozó előre jelzéséhez elsősorban a publikált adathalmaz további oszlopait (bemenő változók) lehet használni.\n",
        "\n",
        "Minden adat típust használjunk fel!\n",
        "\n",
        "adatok: ’https://raw.githubusercontent.com/karsarobert/Machine_Learning_2023/main/train.csv’\n",
        "\n",
        "metrika: Mean Absolute Error MAE\n",
        "\n",
        "célváltozó: target_reg\n",
        "\n",
        "Adatok felosztása az alábbiak szerint:\n",
        "\n",
        "X_train, X_test, y_train, y_test = train_test_split(X, y, test_size=0.4, random_state=42)\n",
        "\n",
        "MAE-t a X_test-en mérjük!\n",
        "\n",
        "Készítette: Szakonyi Bence (C7BJJP), Tomor Máté (GNF0N4)"
      ],
      "metadata": {
        "id": "VvAlIQ3-jbTg"
      }
    },
    {
      "cell_type": "code",
      "source": [
        "import pandas as pd\n",
        "from sklearn.model_selection import train_test_split, GridSearchCV\n",
        "from sklearn.ensemble import RandomForestRegressor\n",
        "from sklearn.metrics import mean_absolute_error\n",
        "from sklearn.impute import SimpleImputer\n",
        "from sklearn.preprocessing import OneHotEncoder\n",
        "\n",
        "# Adatok beolvasása\n",
        "data_url = 'https://raw.githubusercontent.com/karsarobert/Machine_Learning_2023/main/train.csv'\n",
        "df = pd.read_csv(data_url)\n",
        "\n",
        "# Adatok felosztása tanító- és teszthalmazra\n",
        "X = df.drop(columns=['target_reg'])\n",
        "y = df['target_reg']\n",
        "\n",
        "\n",
        "\n",
        "# Hiányzó értékek kezelése és kategorikus oszlopok átalakítása\n",
        "numeric_cols = X.select_dtypes(include=['float64', 'int64']).columns.tolist()\n",
        "categorical_cols = X.select_dtypes(include=['object']).columns.tolist()\n",
        "\n",
        "# Numerikus oszlopok kezelése\n",
        "imputer = SimpleImputer(strategy='mean')\n",
        "X[numeric_cols] = imputer.fit_transform(X[numeric_cols])\n",
        "\n",
        "# Kategorikus oszlopok kezelése\n",
        "X = pd.get_dummies(X, columns=categorical_cols)\n",
        "\n",
        "# Adatok felosztása tanító- és teszthalmazra\n",
        "X_train, X_test, y_train, y_test = train_test_split(X, y, test_size=0.4, random_state=42)\n",
        "\n",
        "# Modell létrehozása\n",
        "model = RandomForestRegressor()\n",
        "\n",
        "# Paraméterkeresési tartomány meghatározása\n",
        "param_grid = {'n_estimators': [100, 200, 500],\n",
        "              'max_depth': [None, 5, 10]}\n",
        "\n",
        "# Paraméterkeresés az almintán\n",
        "grid_search = GridSearchCV(estimator=model, param_grid=param_grid, scoring='neg_mean_absolute_error', cv=3)\n",
        "grid_search.fit(X_train[:1000], y_train[:1000])\n",
        "\n",
        "# Legjobb paraméterek kinyerése\n",
        "best_params = grid_search.best_params_\n",
        "\n",
        "# Modell létrehozása a teljes X_train adatkészlettel és a megtalált paraméterekkel\n",
        "model = RandomForestRegressor(**best_params)\n",
        "model.fit(X_train, y_train)\n",
        "\n",
        "# Előrejelzés a teszthalmazon\n",
        "y_pred = model.predict(X_test)\n",
        "\n",
        "# Mean Absolute Error (MAE) számítása\n",
        "mae = mean_absolute_error(y_test, y_pred)\n",
        "print(\"Mean Absolute Error:\", mae)\n"
      ],
      "metadata": {
        "colab": {
          "base_uri": "https://localhost:8080/"
        },
        "id": "Dn1iZHI0gaLX",
        "outputId": "68727ebf-398f-4d46-8064-b65e91274e01"
      },
      "execution_count": null,
      "outputs": [
        {
          "output_type": "stream",
          "name": "stdout",
          "text": [
            "Mean Absolute Error: 54254.323985403134\n"
          ]
        }
      ]
    },
    {
      "cell_type": "markdown",
      "source": [
        "#JAVITÁS"
      ],
      "metadata": {
        "id": "a5EhcLBo8JiV"
      }
    },
    {
      "cell_type": "code",
      "source": [
        "import pandas as pd\n",
        "from sklearn.model_selection import train_test_split, GridSearchCV\n",
        "from sklearn.ensemble import RandomForestRegressor\n",
        "from sklearn.metrics import mean_absolute_error\n",
        "from sklearn.impute import SimpleImputer\n",
        "from sklearn.preprocessing import OneHotEncoder"
      ],
      "metadata": {
        "id": "Y7RJw9T67w6z"
      },
      "execution_count": null,
      "outputs": []
    },
    {
      "cell_type": "code",
      "source": [
        "# Adatok beolvasása\n",
        "data_url = 'https://raw.githubusercontent.com/karsarobert/Machine_Learning_2023/main/train.csv'\n",
        "df = pd.read_csv(data_url)"
      ],
      "metadata": {
        "id": "oGJpZmdN7znb"
      },
      "execution_count": null,
      "outputs": []
    },
    {
      "cell_type": "code",
      "source": [
        "# Felosztás a független változók (X) és a célváltozó (y) között\n",
        "X = df.drop(columns=['target_reg'])\n",
        "y = df['target_reg']"
      ],
      "metadata": {
        "id": "cC8V7sAO77WC"
      },
      "execution_count": null,
      "outputs": []
    },
    {
      "cell_type": "code",
      "source": [
        "# Felosztás tréning- és teszthalmazra\n",
        "X_train, X_test, y_train, y_test = train_test_split(X, y, test_size=0.4, random_state=42)\n",
        "\n",
        "# Ellenőrzés\n",
        "print(\"Tréning adatok mérete:\", X_train.shape)\n",
        "print(\"Teszt adatok mérete:\", X_test.shape)"
      ],
      "metadata": {
        "colab": {
          "base_uri": "https://localhost:8080/"
        },
        "id": "3JdWi0aG7-QD",
        "outputId": "57c3e66f-b6b8-40e2-9217-0a847e256ad3"
      },
      "execution_count": null,
      "outputs": [
        {
          "output_type": "stream",
          "name": "stdout",
          "text": [
            "Tréning adatok mérete: (19908, 131)\n",
            "Teszt adatok mérete: (13272, 131)\n"
          ]
        }
      ]
    },
    {
      "cell_type": "code",
      "source": [
        "# Numerikus oszlopok kiválasztása\n",
        "numeric_cols = X_train.select_dtypes(include=['float64', 'int64']).columns\n",
        "\n",
        "# Kategórikus oszlopok kiválasztása\n",
        "categorical_cols = X_train.select_dtypes(include=['object']).columns\n",
        "\n",
        "# Tréning adatok szétválasztása numerikus és kategórikus részekre\n",
        "X_train_numeric = X_train[numeric_cols]\n",
        "X_train_categorical = X_train[categorical_cols]\n",
        "\n",
        "# Teszt adatok szétválasztása numerikus és kategórikus részekre\n",
        "X_test_numeric = X_test[numeric_cols]\n",
        "X_test_categorical = X_test[categorical_cols]\n",
        "\n",
        "# Ellenőrzés\n",
        "print(\"Numerikus oszlopok (tréning):\", numeric_cols)\n",
        "print(\"Kategórikus oszlopok (tréning):\", categorical_cols)\n",
        "print(\"Numerikus adatok (tréning) mérete:\", X_train_numeric.shape)\n",
        "print(\"Kategórikus adatok (tréning) mérete:\", X_train_categorical.shape)\n",
        "print(\"Numerikus adatok (teszt) mérete:\", X_test_numeric.shape)\n",
        "print(\"Kategórikus adatok (teszt) mérete:\", X_test_categorical.shape)"
      ],
      "metadata": {
        "colab": {
          "base_uri": "https://localhost:8080/"
        },
        "id": "n9akM0z18GK1",
        "outputId": "298b30c3-d0df-406b-b483-3dabe17bee55"
      },
      "execution_count": null,
      "outputs": [
        {
          "output_type": "stream",
          "name": "stdout",
          "text": [
            "Numerikus oszlopok (tréning): Index(['id', 'KATEGORIKUS_VALTOZO_2014', 'KATEGORIKUS_VALTOZO_2015',\n",
            "       'KATEGORIKUS_VALTOZO_2016', 'aktelh_2014', 'aktelh_2015', 'aktelh_2016',\n",
            "       'aktsajt_2014', 'aktsajt_2015', 'aktsajt_2016', 'alakul_ev',\n",
            "       'arbevert_2014', 'arbevert_2015', 'arbevert_2016', 'arbevexp_2014',\n",
            "       'arbevexp_2015', 'arbevexp_2016', 'befpue_2014', 'befpue_2015',\n",
            "       'befpue_2016', 'begyeb_2014', 'begyeb_2015', 'begyeb_2016',\n",
            "       'celtart_2014', 'celtart_2015', 'celtart_2016', 'eredadel_2014',\n",
            "       'eredadel_2015', 'eredadel_2016', 'eredadoz_2014', 'eredadoz_2015',\n",
            "       'eredadoz_2016', 'eredpenz_2014', 'eredpenz_2015', 'eredpenz_2016',\n",
            "       'eredtar_2014', 'eredtar_2015', 'eredtar_2016', 'ereduzem_2014',\n",
            "       'ereduzem_2015', 'ereduzem_2016', 'ertpapir_2014', 'ertpapir_2015',\n",
            "       'ertpapir_2016', 'hoskot01_2014', 'hoskot01_2015', 'hoskot01_2016',\n",
            "       'hoskot_2014', 'hoskot_2015', 'hoskot_2016', 'immat_2014', 'immat_2015',\n",
            "       'immat_2016', 'jetok_2014', 'jetok_2015', 'jetok_2016', 'kecs_2014',\n",
            "       'kecs_2015', 'kecs_2016', 'keszl_2014', 'keszl_2015', 'keszl_2016',\n",
            "       'kovet_2014', 'kovet_2015', 'kovet_2016', 'letszam_2014',\n",
            "       'letszam_2015', 'letszam_2016', 'merlfoo_2014', 'merlfoo_2015',\n",
            "       'merlfoo_2016', 'penzeszk_2014', 'penzeszk_2015', 'penzeszk_2016',\n",
            "       'ranyag_2014', 'ranyag_2015', 'ranyag_2016', 'regyeb_2014',\n",
            "       'regyeb_2015', 'regyeb_2016', 'rovkot01_2014', 'rovkot01_2015',\n",
            "       'rovkot01_2016', 'rovkot_2014', 'rovkot_2015', 'rovkot_2016',\n",
            "       'rszem_2014', 'rszem_2015', 'rszem_2016', 'sajattok_2014',\n",
            "       'sajattok_2015', 'sajattok_2016', 'targyie_2014', 'targyie_2015',\n",
            "       'targyie_2016'],\n",
            "      dtype='object')\n",
            "Kategórikus oszlopok (tréning): Index(['MEGYE_2014', 'MEGYE_2015', 'MEGYE_2016', 'SZEKHELY_IR_SZAM_2014',\n",
            "       'SZEKHELY_IR_SZAM_2015', 'SZEKHELY_IR_SZAM_2016',\n",
            "       'GAZDALKODASI_FORMA_2014_fo_kategoria',\n",
            "       'GAZDALKODASI_FORMA_2014_1_alkategoria',\n",
            "       'GAZDALKODASI_FORMA_2014_2_alkategoria',\n",
            "       'GAZDALKODASI_FORMA_2015_fo_kategoria',\n",
            "       'GAZDALKODASI_FORMA_2015_1_alkategoria',\n",
            "       'GAZDALKODASI_FORMA_2015_2_alkategoria',\n",
            "       'GAZDALKODASI_FORMA_2016_fo_kategoria',\n",
            "       'GAZDALKODASI_FORMA_2016_1_alkategoria',\n",
            "       'GAZDALKODASI_FORMA_2016_2_alkategoria',\n",
            "       'KKV_BESOROLAS_2014_fo_kategoria', 'KKV_BESOROLAS_2014_1_alkategoria',\n",
            "       'KKV_BESOROLAS_2014_2_alkategoria', 'KKV_BESOROLAS_2015_fo_kategoria',\n",
            "       'KKV_BESOROLAS_2015_1_alkategoria', 'KKV_BESOROLAS_2015_2_alkategoria',\n",
            "       'KKV_BESOROLAS_2016_fo_kategoria', 'KKV_BESOROLAS_2016_1_alkategoria',\n",
            "       'KKV_BESOROLAS_2016_2_alkategoria', 'agazat_2014_fo_kategoria',\n",
            "       'agazat_2014_1_alkategoria', 'agazat_2014_2_alkategoria',\n",
            "       'agazat_2014_3_alkategoria', 'agazat_2015_fo_kategoria',\n",
            "       'agazat_2015_1_alkategoria', 'agazat_2015_2_alkategoria',\n",
            "       'agazat_2015_3_alkategoria', 'agazat_2016_fo_kategoria',\n",
            "       'agazat_2016_1_alkategoria', 'agazat_2016_2_alkategoria',\n",
            "       'agazat_2016_3_alkategoria'],\n",
            "      dtype='object')\n",
            "Numerikus adatok (tréning) mérete: (19908, 95)\n",
            "Kategórikus adatok (tréning) mérete: (19908, 36)\n",
            "Numerikus adatok (teszt) mérete: (13272, 95)\n",
            "Kategórikus adatok (teszt) mérete: (13272, 36)\n"
          ]
        }
      ]
    },
    {
      "cell_type": "code",
      "source": [
        "# Numerikus adatok imputálása\n",
        "numeric_imputer = SimpleImputer(strategy='mean')\n",
        "X_train_numeric_imputed = numeric_imputer.fit_transform(X_train_numeric)\n",
        "X_test_numeric_imputed = numeric_imputer.transform(X_test_numeric)\n",
        "\n",
        "# Kategórikus adatok imputálása\n",
        "categorical_imputer = SimpleImputer(strategy='most_frequent')\n",
        "X_train_categorical_imputed = categorical_imputer.fit_transform(X_train_categorical)\n",
        "X_test_categorical_imputed = categorical_imputer.transform(X_test_categorical)"
      ],
      "metadata": {
        "id": "dUctTEDg8Wtq"
      },
      "execution_count": null,
      "outputs": []
    },
    {
      "cell_type": "code",
      "source": [
        "# Kategórikus adatok kódolása\n",
        "encoder = OneHotEncoder(handle_unknown='ignore')\n",
        "X_train_categorical_encoded = encoder.fit_transform(X_train_categorical_imputed)\n",
        "X_test_categorical_encoded = encoder.transform(X_test_categorical_imputed)"
      ],
      "metadata": {
        "id": "G02qj9zT8fjX"
      },
      "execution_count": null,
      "outputs": []
    },
    {
      "cell_type": "code",
      "source": [
        "# Numerikus és kategórikus adatok összefűzése\n",
        "X_train_combined = pd.concat([pd.DataFrame(X_train_numeric_imputed, columns=numeric_cols),\n",
        "                              pd.DataFrame(X_train_categorical_encoded.toarray(), columns=encoder.get_feature_names_out(categorical_cols))],\n",
        "                             axis=1)\n",
        "\n",
        "X_test_combined = pd.concat([pd.DataFrame(X_test_numeric_imputed, columns=numeric_cols),\n",
        "                             pd.DataFrame(X_test_categorical_encoded.toarray(), columns=encoder.get_feature_names_out(categorical_cols))],\n",
        "                            axis=1)\n",
        "\n",
        "# Ellenőrzés\n",
        "print(\"Összefűzött tréning adatok mérete:\", X_train_combined.shape)\n",
        "print(\"Összefűzött teszt adatok mérete:\", X_test_combined.shape)"
      ],
      "metadata": {
        "colab": {
          "base_uri": "https://localhost:8080/"
        },
        "id": "Exd8c8Ed8l3T",
        "outputId": "44a2deaf-f59f-49f8-b2b6-a47c4e14b2eb"
      },
      "execution_count": null,
      "outputs": [
        {
          "output_type": "stream",
          "name": "stdout",
          "text": [
            "Összefűzött tréning adatok mérete: (19908, 6134)\n",
            "Összefűzött teszt adatok mérete: (13272, 6134)\n"
          ]
        }
      ]
    },
    {
      "cell_type": "code",
      "source": [
        "# Alminták létrehozása a paraméterkereséshez\n",
        "X_train_sample = X_train_combined.sample(frac=0.2, random_state=42)\n",
        "y_train_sample = y_train.sample(frac=0.2, random_state=42)"
      ],
      "metadata": {
        "id": "7LCpo2VY9D8_"
      },
      "execution_count": null,
      "outputs": []
    },
    {
      "cell_type": "code",
      "source": [
        "# Modell létrehozása\n",
        "model = RandomForestRegressor()"
      ],
      "metadata": {
        "id": "uaGyPwXH9eh_"
      },
      "execution_count": null,
      "outputs": []
    },
    {
      "cell_type": "code",
      "source": [
        "# Paraméterkeresési tartomány meghatározása\n",
        "param_grid = {'n_estimators': [100, 200, 500],\n",
        "              'max_depth': [None, 5, 10]}"
      ],
      "metadata": {
        "id": "gao6em-T9lJQ"
      },
      "execution_count": null,
      "outputs": []
    },
    {
      "cell_type": "code",
      "source": [
        "# Paraméterkeresés az almintán\n",
        "grid_search = GridSearchCV(estimator=model, param_grid=param_grid, scoring='neg_mean_absolute_error', cv=3)\n",
        "\n",
        "# Modell illesztése az almintán és paraméterkeresés elvégzése\n",
        "grid_search.fit(X_train_sample, y_train_sample)"
      ],
      "metadata": {
        "colab": {
          "base_uri": "https://localhost:8080/",
          "height": 118
        },
        "id": "t6CAKPj99pBU",
        "outputId": "78dece06-2b30-4b57-d7b2-2b1efa1011cd"
      },
      "execution_count": null,
      "outputs": [
        {
          "output_type": "execute_result",
          "data": {
            "text/plain": [
              "GridSearchCV(cv=3, estimator=RandomForestRegressor(),\n",
              "             param_grid={'max_depth': [None, 5, 10],\n",
              "                         'n_estimators': [100, 200, 500]},\n",
              "             scoring='neg_mean_absolute_error')"
            ],
            "text/html": [
              "<style>#sk-container-id-3 {color: black;background-color: white;}#sk-container-id-3 pre{padding: 0;}#sk-container-id-3 div.sk-toggleable {background-color: white;}#sk-container-id-3 label.sk-toggleable__label {cursor: pointer;display: block;width: 100%;margin-bottom: 0;padding: 0.3em;box-sizing: border-box;text-align: center;}#sk-container-id-3 label.sk-toggleable__label-arrow:before {content: \"▸\";float: left;margin-right: 0.25em;color: #696969;}#sk-container-id-3 label.sk-toggleable__label-arrow:hover:before {color: black;}#sk-container-id-3 div.sk-estimator:hover label.sk-toggleable__label-arrow:before {color: black;}#sk-container-id-3 div.sk-toggleable__content {max-height: 0;max-width: 0;overflow: hidden;text-align: left;background-color: #f0f8ff;}#sk-container-id-3 div.sk-toggleable__content pre {margin: 0.2em;color: black;border-radius: 0.25em;background-color: #f0f8ff;}#sk-container-id-3 input.sk-toggleable__control:checked~div.sk-toggleable__content {max-height: 200px;max-width: 100%;overflow: auto;}#sk-container-id-3 input.sk-toggleable__control:checked~label.sk-toggleable__label-arrow:before {content: \"▾\";}#sk-container-id-3 div.sk-estimator input.sk-toggleable__control:checked~label.sk-toggleable__label {background-color: #d4ebff;}#sk-container-id-3 div.sk-label input.sk-toggleable__control:checked~label.sk-toggleable__label {background-color: #d4ebff;}#sk-container-id-3 input.sk-hidden--visually {border: 0;clip: rect(1px 1px 1px 1px);clip: rect(1px, 1px, 1px, 1px);height: 1px;margin: -1px;overflow: hidden;padding: 0;position: absolute;width: 1px;}#sk-container-id-3 div.sk-estimator {font-family: monospace;background-color: #f0f8ff;border: 1px dotted black;border-radius: 0.25em;box-sizing: border-box;margin-bottom: 0.5em;}#sk-container-id-3 div.sk-estimator:hover {background-color: #d4ebff;}#sk-container-id-3 div.sk-parallel-item::after {content: \"\";width: 100%;border-bottom: 1px solid gray;flex-grow: 1;}#sk-container-id-3 div.sk-label:hover label.sk-toggleable__label {background-color: #d4ebff;}#sk-container-id-3 div.sk-serial::before {content: \"\";position: absolute;border-left: 1px solid gray;box-sizing: border-box;top: 0;bottom: 0;left: 50%;z-index: 0;}#sk-container-id-3 div.sk-serial {display: flex;flex-direction: column;align-items: center;background-color: white;padding-right: 0.2em;padding-left: 0.2em;position: relative;}#sk-container-id-3 div.sk-item {position: relative;z-index: 1;}#sk-container-id-3 div.sk-parallel {display: flex;align-items: stretch;justify-content: center;background-color: white;position: relative;}#sk-container-id-3 div.sk-item::before, #sk-container-id-3 div.sk-parallel-item::before {content: \"\";position: absolute;border-left: 1px solid gray;box-sizing: border-box;top: 0;bottom: 0;left: 50%;z-index: -1;}#sk-container-id-3 div.sk-parallel-item {display: flex;flex-direction: column;z-index: 1;position: relative;background-color: white;}#sk-container-id-3 div.sk-parallel-item:first-child::after {align-self: flex-end;width: 50%;}#sk-container-id-3 div.sk-parallel-item:last-child::after {align-self: flex-start;width: 50%;}#sk-container-id-3 div.sk-parallel-item:only-child::after {width: 0;}#sk-container-id-3 div.sk-dashed-wrapped {border: 1px dashed gray;margin: 0 0.4em 0.5em 0.4em;box-sizing: border-box;padding-bottom: 0.4em;background-color: white;}#sk-container-id-3 div.sk-label label {font-family: monospace;font-weight: bold;display: inline-block;line-height: 1.2em;}#sk-container-id-3 div.sk-label-container {text-align: center;}#sk-container-id-3 div.sk-container {/* jupyter's `normalize.less` sets `[hidden] { display: none; }` but bootstrap.min.css set `[hidden] { display: none !important; }` so we also need the `!important` here to be able to override the default hidden behavior on the sphinx rendered scikit-learn.org. See: https://github.com/scikit-learn/scikit-learn/issues/21755 */display: inline-block !important;position: relative;}#sk-container-id-3 div.sk-text-repr-fallback {display: none;}</style><div id=\"sk-container-id-3\" class=\"sk-top-container\"><div class=\"sk-text-repr-fallback\"><pre>GridSearchCV(cv=3, estimator=RandomForestRegressor(),\n",
              "             param_grid={&#x27;max_depth&#x27;: [None, 5, 10],\n",
              "                         &#x27;n_estimators&#x27;: [100, 200, 500]},\n",
              "             scoring=&#x27;neg_mean_absolute_error&#x27;)</pre><b>In a Jupyter environment, please rerun this cell to show the HTML representation or trust the notebook. <br />On GitHub, the HTML representation is unable to render, please try loading this page with nbviewer.org.</b></div><div class=\"sk-container\" hidden><div class=\"sk-item sk-dashed-wrapped\"><div class=\"sk-label-container\"><div class=\"sk-label sk-toggleable\"><input class=\"sk-toggleable__control sk-hidden--visually\" id=\"sk-estimator-id-5\" type=\"checkbox\" ><label for=\"sk-estimator-id-5\" class=\"sk-toggleable__label sk-toggleable__label-arrow\">GridSearchCV</label><div class=\"sk-toggleable__content\"><pre>GridSearchCV(cv=3, estimator=RandomForestRegressor(),\n",
              "             param_grid={&#x27;max_depth&#x27;: [None, 5, 10],\n",
              "                         &#x27;n_estimators&#x27;: [100, 200, 500]},\n",
              "             scoring=&#x27;neg_mean_absolute_error&#x27;)</pre></div></div></div><div class=\"sk-parallel\"><div class=\"sk-parallel-item\"><div class=\"sk-item\"><div class=\"sk-label-container\"><div class=\"sk-label sk-toggleable\"><input class=\"sk-toggleable__control sk-hidden--visually\" id=\"sk-estimator-id-6\" type=\"checkbox\" ><label for=\"sk-estimator-id-6\" class=\"sk-toggleable__label sk-toggleable__label-arrow\">estimator: RandomForestRegressor</label><div class=\"sk-toggleable__content\"><pre>RandomForestRegressor()</pre></div></div></div><div class=\"sk-serial\"><div class=\"sk-item\"><div class=\"sk-estimator sk-toggleable\"><input class=\"sk-toggleable__control sk-hidden--visually\" id=\"sk-estimator-id-7\" type=\"checkbox\" ><label for=\"sk-estimator-id-7\" class=\"sk-toggleable__label sk-toggleable__label-arrow\">RandomForestRegressor</label><div class=\"sk-toggleable__content\"><pre>RandomForestRegressor()</pre></div></div></div></div></div></div></div></div></div></div>"
            ]
          },
          "metadata": {},
          "execution_count": 32
        }
      ]
    },
    {
      "cell_type": "code",
      "source": [
        "# Legjobb paraméterek kinyerése\n",
        "best_params = grid_search.best_params_\n",
        "\n",
        "print(best_params)"
      ],
      "metadata": {
        "colab": {
          "base_uri": "https://localhost:8080/"
        },
        "id": "tAzFegds-4AM",
        "outputId": "2a2e768e-637a-4f86-dd86-f098f6ebccd6"
      },
      "execution_count": null,
      "outputs": [
        {
          "output_type": "stream",
          "name": "stdout",
          "text": [
            "{'max_depth': 10, 'n_estimators': 500}\n"
          ]
        }
      ]
    },
    {
      "cell_type": "code",
      "source": [
        "# Modell létrehozása a teljes X_train adatkészlettel és a megtalált paraméterekkel\n",
        "model = RandomForestRegressor(**best_params)\n",
        "model.fit(X_train_combined, y_train)"
      ],
      "metadata": {
        "colab": {
          "base_uri": "https://localhost:8080/",
          "height": 75
        },
        "id": "nIoJmYY7-_St",
        "outputId": "9082035c-6e7a-48bb-d924-e668345ab48b"
      },
      "execution_count": null,
      "outputs": [
        {
          "output_type": "execute_result",
          "data": {
            "text/plain": [
              "RandomForestRegressor(max_depth=10, n_estimators=500)"
            ],
            "text/html": [
              "<style>#sk-container-id-4 {color: black;background-color: white;}#sk-container-id-4 pre{padding: 0;}#sk-container-id-4 div.sk-toggleable {background-color: white;}#sk-container-id-4 label.sk-toggleable__label {cursor: pointer;display: block;width: 100%;margin-bottom: 0;padding: 0.3em;box-sizing: border-box;text-align: center;}#sk-container-id-4 label.sk-toggleable__label-arrow:before {content: \"▸\";float: left;margin-right: 0.25em;color: #696969;}#sk-container-id-4 label.sk-toggleable__label-arrow:hover:before {color: black;}#sk-container-id-4 div.sk-estimator:hover label.sk-toggleable__label-arrow:before {color: black;}#sk-container-id-4 div.sk-toggleable__content {max-height: 0;max-width: 0;overflow: hidden;text-align: left;background-color: #f0f8ff;}#sk-container-id-4 div.sk-toggleable__content pre {margin: 0.2em;color: black;border-radius: 0.25em;background-color: #f0f8ff;}#sk-container-id-4 input.sk-toggleable__control:checked~div.sk-toggleable__content {max-height: 200px;max-width: 100%;overflow: auto;}#sk-container-id-4 input.sk-toggleable__control:checked~label.sk-toggleable__label-arrow:before {content: \"▾\";}#sk-container-id-4 div.sk-estimator input.sk-toggleable__control:checked~label.sk-toggleable__label {background-color: #d4ebff;}#sk-container-id-4 div.sk-label input.sk-toggleable__control:checked~label.sk-toggleable__label {background-color: #d4ebff;}#sk-container-id-4 input.sk-hidden--visually {border: 0;clip: rect(1px 1px 1px 1px);clip: rect(1px, 1px, 1px, 1px);height: 1px;margin: -1px;overflow: hidden;padding: 0;position: absolute;width: 1px;}#sk-container-id-4 div.sk-estimator {font-family: monospace;background-color: #f0f8ff;border: 1px dotted black;border-radius: 0.25em;box-sizing: border-box;margin-bottom: 0.5em;}#sk-container-id-4 div.sk-estimator:hover {background-color: #d4ebff;}#sk-container-id-4 div.sk-parallel-item::after {content: \"\";width: 100%;border-bottom: 1px solid gray;flex-grow: 1;}#sk-container-id-4 div.sk-label:hover label.sk-toggleable__label {background-color: #d4ebff;}#sk-container-id-4 div.sk-serial::before {content: \"\";position: absolute;border-left: 1px solid gray;box-sizing: border-box;top: 0;bottom: 0;left: 50%;z-index: 0;}#sk-container-id-4 div.sk-serial {display: flex;flex-direction: column;align-items: center;background-color: white;padding-right: 0.2em;padding-left: 0.2em;position: relative;}#sk-container-id-4 div.sk-item {position: relative;z-index: 1;}#sk-container-id-4 div.sk-parallel {display: flex;align-items: stretch;justify-content: center;background-color: white;position: relative;}#sk-container-id-4 div.sk-item::before, #sk-container-id-4 div.sk-parallel-item::before {content: \"\";position: absolute;border-left: 1px solid gray;box-sizing: border-box;top: 0;bottom: 0;left: 50%;z-index: -1;}#sk-container-id-4 div.sk-parallel-item {display: flex;flex-direction: column;z-index: 1;position: relative;background-color: white;}#sk-container-id-4 div.sk-parallel-item:first-child::after {align-self: flex-end;width: 50%;}#sk-container-id-4 div.sk-parallel-item:last-child::after {align-self: flex-start;width: 50%;}#sk-container-id-4 div.sk-parallel-item:only-child::after {width: 0;}#sk-container-id-4 div.sk-dashed-wrapped {border: 1px dashed gray;margin: 0 0.4em 0.5em 0.4em;box-sizing: border-box;padding-bottom: 0.4em;background-color: white;}#sk-container-id-4 div.sk-label label {font-family: monospace;font-weight: bold;display: inline-block;line-height: 1.2em;}#sk-container-id-4 div.sk-label-container {text-align: center;}#sk-container-id-4 div.sk-container {/* jupyter's `normalize.less` sets `[hidden] { display: none; }` but bootstrap.min.css set `[hidden] { display: none !important; }` so we also need the `!important` here to be able to override the default hidden behavior on the sphinx rendered scikit-learn.org. See: https://github.com/scikit-learn/scikit-learn/issues/21755 */display: inline-block !important;position: relative;}#sk-container-id-4 div.sk-text-repr-fallback {display: none;}</style><div id=\"sk-container-id-4\" class=\"sk-top-container\"><div class=\"sk-text-repr-fallback\"><pre>RandomForestRegressor(max_depth=10, n_estimators=500)</pre><b>In a Jupyter environment, please rerun this cell to show the HTML representation or trust the notebook. <br />On GitHub, the HTML representation is unable to render, please try loading this page with nbviewer.org.</b></div><div class=\"sk-container\" hidden><div class=\"sk-item\"><div class=\"sk-estimator sk-toggleable\"><input class=\"sk-toggleable__control sk-hidden--visually\" id=\"sk-estimator-id-8\" type=\"checkbox\" checked><label for=\"sk-estimator-id-8\" class=\"sk-toggleable__label sk-toggleable__label-arrow\">RandomForestRegressor</label><div class=\"sk-toggleable__content\"><pre>RandomForestRegressor(max_depth=10, n_estimators=500)</pre></div></div></div></div></div>"
            ]
          },
          "metadata": {},
          "execution_count": 34
        }
      ]
    },
    {
      "cell_type": "code",
      "source": [
        "# Előrejelzés a teszthalmazon\n",
        "y_train_pred = best_model.predict(X_train_combined)\n",
        "y_test_pred = best_model.predict(X_test_combined)"
      ],
      "metadata": {
        "id": "EGsfMijY_Cb-"
      },
      "execution_count": null,
      "outputs": []
    },
    {
      "cell_type": "code",
      "source": [
        "# Teljes adathalmazon való illesztés és értékelés\n",
        "y_train_pred = best_model.predict(X_train_combined)\n",
        "y_test_pred = best_model.predict(X_test_combined)\n",
        "mae_train = mean_absolute_error(y_train, y_train_pred)\n",
        "mae_test = mean_absolute_error(y_test, y_test_pred)\n",
        "\n",
        "# Eredmények kiíratása\n",
        "print(\"Tréning adatok MAE értéke:\", mae_train)\n",
        "print(\"Teszt adatok MAE értéke:\", mae_test)"
      ],
      "metadata": {
        "colab": {
          "base_uri": "https://localhost:8080/"
        },
        "id": "6YlV_QFw_FzT",
        "outputId": "9cd9c476-50eb-4693-a9d8-05131c92eaa9"
      },
      "execution_count": null,
      "outputs": [
        {
          "output_type": "stream",
          "name": "stdout",
          "text": [
            "Tréning adatok MAE értéke: 90536.22925406872\n",
            "Teszt adatok MAE értéke: 98789.58584915611\n"
          ]
        }
      ]
    },
    {
      "cell_type": "code",
      "source": [
        "# Legjobb modell kiválasztása\n",
        "best_model = grid_search.best_estimator_"
      ],
      "metadata": {
        "id": "oYjGH6daCNVI"
      },
      "execution_count": null,
      "outputs": []
    },
    {
      "cell_type": "code",
      "source": [
        "# Teljes adathalmazon való illesztés és értékelés\n",
        "y_train_pred = best_model.predict(X_train_combined)\n",
        "y_test_pred = best_model.predict(X_test_combined)\n",
        "mae_train = mean_absolute_error(y_train, y_train_pred)\n",
        "mae_test = mean_absolute_error(y_test, y_test_pred)\n",
        "\n",
        "# Eredmények kiíratása\n",
        "print(\"Tréning adatok MAE értéke:\", mae_train)\n",
        "print(\"Teszt adatok MAE értéke:\", mae_test)"
      ],
      "metadata": {
        "colab": {
          "base_uri": "https://localhost:8080/"
        },
        "id": "4byFPXA1CG0C",
        "outputId": "54d8e65f-aa24-43fd-d09c-1d168534b5b4"
      },
      "execution_count": null,
      "outputs": [
        {
          "output_type": "stream",
          "name": "stdout",
          "text": [
            "Tréning adatok MAE értéke: 90536.22925406872\n",
            "Teszt adatok MAE értéke: 98789.58584915611\n"
          ]
        }
      ]
    }
  ]
}